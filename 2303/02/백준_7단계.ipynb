{
 "cells": [
  {
   "cell_type": "code",
   "execution_count": null,
   "metadata": {},
   "outputs": [],
   "source": [
    "#백준 2738번 행렬 덧셈 \n",
    "n,m=map(int,input().split())\n",
    "a,b=[],[]\n",
    "for _ in range(n):\n",
    "    row=list(map(int,input().split()))\n",
    "    a.append(row)\n",
    "for _ in range(n):\n",
    "    col=list(map(int,input().split()))\n",
    "    b.append(col)\n",
    "for row in range(n):\n",
    "    for col in range(m):\n",
    "        print(f'{a[row][col]+b[row][col]}',end=' ')\n",
    "    print()"
   ]
  },
  {
   "cell_type": "code",
   "execution_count": null,
   "metadata": {},
   "outputs": [],
   "source": [
    "#백준 2566번 최댓값 \n",
    "grid=[]\n",
    "for _ in range(9):\n",
    "    grid.append(list(map(int,input().split())))\n",
    "\n",
    "x=0\n",
    "y=0\n",
    "tmp=-1\n",
    "\n",
    "for row in range(9):\n",
    "    for col in range(9):\n",
    "        if grid[row][col]>tmp:\n",
    "            tmp=grid[row][col]\n",
    "            x=row+1 #list는 0부터 시작하는데 그게 사실은 1행이기에 +1 \n",
    "            y=col+1 #컴퓨터 안 4열에서 찾으면 5열에 있는거니까 \n",
    "\n",
    "print(f'{tmp}\\n{x} {y}')"
   ]
  },
  {
   "cell_type": "code",
   "execution_count": null,
   "metadata": {},
   "outputs": [],
   "source": [
    "#10798번 세로읽기\n",
    "grid=[]\n",
    "for _ in range(5):\n",
    "    grid.append(input()) #['ABCDE','abcde',01234,'FGHIJ','fghij']\n",
    "\n",
    "for i in range(15):#최대15글자\n",
    "    for j in range(5):#5줄\n",
    "        if i<len(grid[j]):#i-> 세로줄의 인덱스를 의미함\n",
    "            print(grid[j][i],end='')"
   ]
  }
 ],
 "metadata": {
  "kernelspec": {
   "display_name": "Python 3",
   "language": "python",
   "name": "python3"
  },
  "language_info": {
   "codemirror_mode": {
    "name": "ipython",
    "version": 3
   },
   "file_extension": ".py",
   "mimetype": "text/x-python",
   "name": "python",
   "nbconvert_exporter": "python",
   "pygments_lexer": "ipython3",
   "version": "3.11.1"
  },
  "orig_nbformat": 4,
  "vscode": {
   "interpreter": {
    "hash": "5801587a06112e6250870f7b732ec27b04ad3aa34afbae47b4a821f67eef7a1b"
   }
  }
 },
 "nbformat": 4,
 "nbformat_minor": 2
}
