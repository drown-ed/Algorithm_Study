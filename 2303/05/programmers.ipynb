{
 "cells": [
  {
   "cell_type": "code",
   "execution_count": null,
   "metadata": {},
   "outputs": [],
   "source": [
    "# 짝수 홀수 개수\n",
    "def solution(num_list):\n",
    "    even_cnt,odd_cnt=0,0\n",
    "    for i in range(len(num_list)):\n",
    "        if num_list[i]%2==0:\n",
    "            even_cnt+=1\n",
    "        else:\n",
    "            odd_cnt+=1\n",
    "    answer=[even_cnt,odd_cnt]\n",
    "    return answer\n",
    "\n",
    "solution([1,2,3,4,5])"
   ]
  },
  {
   "cell_type": "code",
   "execution_count": null,
   "metadata": {},
   "outputs": [],
   "source": [
    "# 문자 반복 출력하기\n",
    "def solution(my_string, n):\n",
    "    answer=''\n",
    "    for i in range(len(my_string)):\n",
    "        answer+=my_string[i]*n\n",
    "    return answer\n",
    "\n",
    "solution(\"hello\",4)"
   ]
  },
  {
   "cell_type": "code",
   "execution_count": 17,
   "metadata": {},
   "outputs": [
    {
     "data": {
      "text/plain": [
       "'Cdbe'"
      ]
     },
     "execution_count": 17,
     "metadata": {},
     "output_type": "execute_result"
    }
   ],
   "source": [
    "#특정 문자 제거하기\n",
    "# def solution(my_string, letter):\n",
    "#     answer=''\n",
    "#     arr1=list(my_string)\n",
    "#     for i in my_string:\n",
    "#         if i==letter:\n",
    "#             arr1.remove(letter)\n",
    "#     for i in range(len(arr1)):\n",
    "#         answer+=arr1[i]\n",
    "#     return answer\n",
    "\n",
    "# solution(\"BCBdbe\",\"B\")\n",
    "def solution(my_string, letter):\n",
    "    return my_string.replace(letter, '')\n",
    "\n",
    "solution(\"BCBdbe\",\"B\")"
   ]
  },
  {
   "cell_type": "code",
   "execution_count": 30,
   "metadata": {},
   "outputs": [
    {
     "data": {
      "text/plain": [
       "6"
      ]
     },
     "execution_count": 30,
     "metadata": {},
     "output_type": "execute_result"
    }
   ],
   "source": [
    "def solution(n):\n",
    "    answer=0\n",
    "    for i in range(n+1):\n",
    "        if i%2==0:\n",
    "            answer+=i\n",
    "    return answer\n",
    "solution(4)"
   ]
  }
 ],
 "metadata": {
  "kernelspec": {
   "display_name": "Python 3",
   "language": "python",
   "name": "python3"
  },
  "language_info": {
   "name": "python",
   "version": "3.11.2"
  },
  "orig_nbformat": 4,
  "vscode": {
   "interpreter": {
    "hash": "5801587a06112e6250870f7b732ec27b04ad3aa34afbae47b4a821f67eef7a1b"
   }
  }
 },
 "nbformat": 4,
 "nbformat_minor": 2
}
