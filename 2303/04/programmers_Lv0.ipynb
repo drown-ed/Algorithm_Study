{
 "cells": [
  {
   "cell_type": "code",
   "execution_count": null,
   "metadata": {},
   "outputs": [],
   "source": [
    "# 분수의 덧셈\n",
    "import math\n",
    "def solution(numer1, denom1, numer2, denom2):\n",
    "    boonmo=denom1*denom2\n",
    "    boonja=(numer1*denom2)+(numer2*denom1)\n",
    "    gcd_value=math.gcd(boonmo,boonja)\n",
    "\n",
    "    answer=[boonja//gcd_value,boonmo//gcd_value]\n",
    "    return answer\n",
    "\n",
    "solution(9,2,1,3)"
   ]
  },
  {
   "cell_type": "code",
   "execution_count": 10,
   "metadata": {},
   "outputs": [
    {
     "data": {
      "text/plain": [
       "[2, 4, 6, 8, 10]"
      ]
     },
     "execution_count": 10,
     "metadata": {},
     "output_type": "execute_result"
    }
   ],
   "source": [
    "# 배열 두배 만들기\n",
    "def solution(numbers):\n",
    "    answer = []\n",
    "    for i in range(len(numbers)):\n",
    "        answer.append(numbers[i]*2)\n",
    "    return answer\n",
    "\n",
    "solution([1,2,3,4,5])"
   ]
  },
  {
   "cell_type": "code",
   "execution_count": 31,
   "metadata": {},
   "outputs": [
    {
     "data": {
      "text/plain": [
       "3"
      ]
     },
     "execution_count": 31,
     "metadata": {},
     "output_type": "execute_result"
    }
   ],
   "source": [
    "#최빈값 구하기\n",
    "def solution(array):\n",
    "    from collections import Counter\n",
    "    cnt=Counter(array).most_common() #최빈값 찾아서 배열로 넣어줌\n",
    "    if len(cnt)>1:\n",
    "        if cnt[0][1]==cnt[1][1]:\n",
    "            return -1\n",
    "        else:\n",
    "            return cnt[0][0]\n",
    "    return cnt[0][0]\n",
    "\n",
    "solution([1,1,2,2,2,3,3,3,3])\n",
    "# len(solution([1,1,2,2,2,3,3,3,3])) --> 3 \n",
    "# cnt는 [(3, 4), (2, 3), (1, 2)] / len(cnt)는 3"
   ]
  },
  {
   "cell_type": "code",
   "execution_count": 33,
   "metadata": {},
   "outputs": [
    {
     "data": {
      "text/plain": [
       "[1, 3, 5, 7, 9, 11, 13, 15]"
      ]
     },
     "execution_count": 33,
     "metadata": {},
     "output_type": "execute_result"
    }
   ],
   "source": [
    "#짝수는 싫어요\n",
    "def solution(n):\n",
    "    answer = []\n",
    "    for i in range(1,n+1):\n",
    "        if i%2==1:\n",
    "            answer.append(i)\n",
    "    return answer\n",
    "\n",
    "solution(15)"
   ]
  },
  {
   "cell_type": "code",
   "execution_count": 8,
   "metadata": {},
   "outputs": [
    {
     "data": {
      "text/plain": [
       "2"
      ]
     },
     "execution_count": 8,
     "metadata": {},
     "output_type": "execute_result"
    }
   ],
   "source": [
    "# 피자 나눠 먹기(2)\n",
    "def solution(n):\n",
    "    import math\n",
    "    answer=math.lcm(n,6)//6\n",
    "    return answer\n",
    "\n",
    "solution(4)\n",
    "# 프로그래머스는 버전이 3.8.5라서 3.9부터 지원되는 math.lcm 인식을 못함\n",
    "# 난 쓸래 "
   ]
  },
  {
   "cell_type": "code",
   "execution_count": 19,
   "metadata": {},
   "outputs": [
    {
     "data": {
      "text/plain": [
       "[2, 4000]"
      ]
     },
     "execution_count": 19,
     "metadata": {},
     "output_type": "execute_result"
    }
   ],
   "source": [
    "#옷가게 할인 받기\n",
    "def solution(price):\n",
    "    if price>=500000:\n",
    "        answer=price*0.8\n",
    "    elif price>=300000:\n",
    "        answer=price*0.9\n",
    "    elif price>=100000:\n",
    "        answer=price*0.95\n",
    "    else:\n",
    "        answer=price\n",
    "    return int(answer)\n",
    "\n",
    "solution(150000)"
   ]
  },
  {
   "cell_type": "code",
   "execution_count": 28,
   "metadata": {},
   "outputs": [
    {
     "data": {
      "text/plain": [
       "[5, 4, 3, 2, 1]"
      ]
     },
     "execution_count": 28,
     "metadata": {},
     "output_type": "execute_result"
    }
   ],
   "source": [
    "#문자열 뒤집기\n",
    "def solution(num_list):\n",
    "    answer = num_list\n",
    "    answer.reverse() # answer=num_list.reverse() 처럼은 못씀\n",
    "                    # num_list.reverse()하면 그냥 num_list 배열이 뒤집히는것\n",
    "    return answer\n",
    "\n",
    "solution([1,2,3,4,5])"
   ]
  }
 ],
 "metadata": {
  "kernelspec": {
   "display_name": "Python 3",
   "language": "python",
   "name": "python3"
  },
  "language_info": {
   "codemirror_mode": {
    "name": "ipython",
    "version": 3
   },
   "file_extension": ".py",
   "mimetype": "text/x-python",
   "name": "python",
   "nbconvert_exporter": "python",
   "pygments_lexer": "ipython3",
   "version": "3.11.2"
  },
  "orig_nbformat": 4,
  "vscode": {
   "interpreter": {
    "hash": "5801587a06112e6250870f7b732ec27b04ad3aa34afbae47b4a821f67eef7a1b"
   }
  }
 },
 "nbformat": 4,
 "nbformat_minor": 2
}
