{
 "cells": [
  {
   "cell_type": "code",
   "execution_count": null,
   "metadata": {},
   "outputs": [],
   "source": [
    "# 분수의 덧셈\n",
    "import math\n",
    "def solution(numer1, denom1, numer2, denom2):\n",
    "    boonmo=denom1*denom2\n",
    "    boonja=(numer1*denom2)+(numer2*denom1)\n",
    "    gcd_value=math.gcd(boonmo,boonja)\n",
    "\n",
    "    answer=[boonja//gcd_value,boonmo//gcd_value]\n",
    "    return answer\n",
    "\n",
    "solution(9,2,1,3)"
   ]
  },
  {
   "cell_type": "code",
   "execution_count": 10,
   "metadata": {},
   "outputs": [
    {
     "data": {
      "text/plain": [
       "[2, 4, 6, 8, 10]"
      ]
     },
     "execution_count": 10,
     "metadata": {},
     "output_type": "execute_result"
    }
   ],
   "source": [
    "# 배열 두배 만들기\n",
    "def solution(numbers):\n",
    "    answer = []\n",
    "    for i in range(len(numbers)):\n",
    "        answer.append(numbers[i]*2)\n",
    "    return answer\n",
    "\n",
    "solution([1,2,3,4,5])"
   ]
  },
  {
   "cell_type": "code",
   "execution_count": 31,
   "metadata": {},
   "outputs": [
    {
     "data": {
      "text/plain": [
       "3"
      ]
     },
     "execution_count": 31,
     "metadata": {},
     "output_type": "execute_result"
    }
   ],
   "source": [
    "#최빈값 구하기\n",
    "def solution(array):\n",
    "    from collections import Counter\n",
    "    cnt=Counter(array).most_common() #최빈값 찾아서 배열로 넣어줌\n",
    "    if len(cnt)>1:\n",
    "        if cnt[0][1]==cnt[1][1]:\n",
    "            return -1\n",
    "        else:\n",
    "            return cnt[0][0]\n",
    "    return cnt[0][0]\n",
    "\n",
    "solution([1,1,2,2,2,3,3,3,3])\n",
    "# len(solution([1,1,2,2,2,3,3,3,3])) --> 3 \n",
    "# cnt는 [(3, 4), (2, 3), (1, 2)] / len(cnt)는 3"
   ]
  },
  {
   "cell_type": "code",
   "execution_count": 33,
   "metadata": {},
   "outputs": [
    {
     "data": {
      "text/plain": [
       "[1, 3, 5, 7, 9, 11, 13, 15]"
      ]
     },
     "execution_count": 33,
     "metadata": {},
     "output_type": "execute_result"
    }
   ],
   "source": [
    "#짝수는 싫어요\n",
    "def solution(n):\n",
    "    answer = []\n",
    "    for i in range(1,n+1):\n",
    "        if i%2==1:\n",
    "            answer.append(i)\n",
    "    return answer\n",
    "\n",
    "solution(15)"
   ]
  }
 ],
 "metadata": {
  "kernelspec": {
   "display_name": "Python 3",
   "language": "python",
   "name": "python3"
  },
  "language_info": {
   "codemirror_mode": {
    "name": "ipython",
    "version": 3
   },
   "file_extension": ".py",
   "mimetype": "text/x-python",
   "name": "python",
   "nbconvert_exporter": "python",
   "pygments_lexer": "ipython3",
   "version": "3.11.2"
  },
  "orig_nbformat": 4,
  "vscode": {
   "interpreter": {
    "hash": "5801587a06112e6250870f7b732ec27b04ad3aa34afbae47b4a821f67eef7a1b"
   }
  }
 },
 "nbformat": 4,
 "nbformat_minor": 2
}
