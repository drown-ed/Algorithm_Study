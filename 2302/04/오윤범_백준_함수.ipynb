{
 "cells": [
  {
   "cell_type": "code",
   "execution_count": null,
   "metadata": {},
   "outputs": [],
   "source": [
    "#백준 15596번 정수 N개의 합\n",
    "def solve(a):\n",
    "    return sum(a)"
   ]
  },
  {
   "cell_type": "code",
   "execution_count": null,
   "metadata": {},
   "outputs": [],
   "source": [
    "#백준 4673번 셀프 넘버\n",
    "#d(n) : 생성자 판별 함수\n",
    "def d(n):#원래 숫자 + 숫자의 각 자리수 ex)123 : 123 + 1 + 2 + 3\n",
    "    selfnumber=n \n",
    "    num=list(str(n)) # ex)12345 : ['1','2','3','4','5'] 꼴로 nu에 저장\n",
    "    for i in range(len(num)): \n",
    "        selfnumber+=int(num[i]) # 입력한값 += 각 자리값 더함\n",
    "    return selfnumber # ex)12345 : 12345+1+2+3+4+5 반환\n",
    "\n",
    "list1=list(range(1,10001)) #list1에 list 형태로 1~10000까지 저장\n",
    "for i in range(1,10001):\n",
    "    if d(i) in list1:#1~10000이 저장되어있는 list1에 생성자가 있으면\n",
    "        list1.remove(d(i))#list1에서 생성자 삭제\n",
    "\n",
    "for j in range(len(list1)):\n",
    "    print(list1[j])#list1에서 생성자 삭제 후 남아있는 셀프넘버만 출력"
   ]
  },
  {
   "cell_type": "code",
   "execution_count": null,
   "metadata": {},
   "outputs": [],
   "source": [
    "#백준 1065번 한수\n",
    "n=int(input())\n",
    "cnt=0\n",
    "for i in range(1,n+1):\n",
    "    if i<100:#한자리/두자리 공차가2개가 아니라 비교 불가능. \n",
    "        cnt+=1#예제 입력 1입력->1출력이기에 한자리,두자리는 모두 카운팅\n",
    "    else:#세자리\n",
    "        m=list(map(int,str(i)))#ex)i가 123이면 m에 [1,2,3,4,5] 의 형태로 저장\n",
    "        #m=list(str(123)) --> ['1','2','3'] 으로 저장됨을 유의\n",
    "        if m[0]-m[1] == m[1]-m[2]:#세자리 기준으로 공차가 같다면\n",
    "            cnt+=1#카운팅\n",
    "print(cnt)"
   ]
  }
 ],
 "metadata": {
  "kernelspec": {
   "display_name": "Python 3",
   "language": "python",
   "name": "python3"
  },
  "language_info": {
   "codemirror_mode": {
    "name": "ipython",
    "version": 3
   },
   "file_extension": ".py",
   "mimetype": "text/x-python",
   "name": "python",
   "nbconvert_exporter": "python",
   "pygments_lexer": "ipython3",
   "version": "3.11.1"
  },
  "orig_nbformat": 4,
  "vscode": {
   "interpreter": {
    "hash": "5801587a06112e6250870f7b732ec27b04ad3aa34afbae47b4a821f67eef7a1b"
   }
  }
 },
 "nbformat": 4,
 "nbformat_minor": 2
}
