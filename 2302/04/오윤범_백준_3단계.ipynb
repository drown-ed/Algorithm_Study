{
 "cells": [
  {
   "cell_type": "code",
   "execution_count": null,
   "metadata": {},
   "outputs": [],
   "source": [
    "#백준 2739번 구구단\n",
    "n=int(input())\n",
    "for i in range(1,10):\n",
    "    print(f'{n} * {i} = {n*i}')"
   ]
  },
  {
   "cell_type": "code",
   "execution_count": null,
   "metadata": {},
   "outputs": [],
   "source": [
    "#백준 10950번 A+B-3\n",
    "n=int(input())#테케 개수\n",
    "for i in range(n):\n",
    "    x,y=map(int,input().split())\n",
    "    print(x+y)"
   ]
  },
  {
   "cell_type": "code",
   "execution_count": null,
   "metadata": {},
   "outputs": [],
   "source": [
    "#백준 8393번 합\n",
    "n=int(input())\n",
    "sum=0\n",
    "for i in range(1,n+1):\n",
    "    sum+=i\n",
    "print(sum)"
   ]
  },
  {
   "cell_type": "code",
   "execution_count": null,
   "metadata": {},
   "outputs": [],
   "source": [
    "#백준 25304번 영수증\n",
    "total=int(input())\n",
    "pnum=int(input())\n",
    "total_price=0\n",
    "for i in range(pnum):\n",
    "    p,n=map(int,input().split())\n",
    "    total_price+=p*n\n",
    "if total==total_price:\n",
    "    print('Yes')\n",
    "else:\n",
    "    print('No')"
   ]
  },
  {
   "cell_type": "code",
   "execution_count": null,
   "metadata": {},
   "outputs": [],
   "source": [
    "#백준 15552번 빠른 A+B\n",
    "import sys \n",
    "n = int(input())\n",
    "for i in range(n):\n",
    "        a,b = map(int, sys.stdin.readline().split())\n",
    "        print(a+b)"
   ]
  },
  {
   "cell_type": "code",
   "execution_count": null,
   "metadata": {},
   "outputs": [],
   "source": [
    "#백준 11021번 A+B -7\n",
    "tc=int(input())\n",
    "for i in range(tc):\n",
    "    m,n=map(int,input().split())\n",
    "    print(f'Case #{i+1}: {m+n}')"
   ]
  },
  {
   "cell_type": "code",
   "execution_count": null,
   "metadata": {},
   "outputs": [],
   "source": [
    "#백준 11022번 A+B-8\n",
    "tc=int(input())\n",
    "for i in range(tc):\n",
    "    m,n=map(int,input().split())\n",
    "    print(f'Case #{i+1}: {m} + {n} = {m+n}')"
   ]
  },
  {
   "cell_type": "code",
   "execution_count": null,
   "metadata": {},
   "outputs": [],
   "source": [
    "#백준 2438번 별찍기 -1\n",
    "n=int(input())\n",
    "for i in range(1,n+1):\n",
    "    print('*'*i)"
   ]
  },
  {
   "cell_type": "code",
   "execution_count": null,
   "metadata": {},
   "outputs": [],
   "source": [
    "#백준 2439번 별찍기 -2\n",
    "n=int(input())\n",
    "for i in range(1,n+1):\n",
    "    print(' '*(n-i)+'*'*i)"
   ]
  },
  {
   "cell_type": "code",
   "execution_count": null,
   "metadata": {},
   "outputs": [],
   "source": [
    "#백준 10952번 A+B-5\n",
    "while True:\n",
    "    m,n=map(int,input().split())\n",
    "    if m ==0 and n==0:\n",
    "        break\n",
    "    print(f'{m+n}')"
   ]
  },
  {
   "cell_type": "code",
   "execution_count": null,
   "metadata": {},
   "outputs": [],
   "source": [
    "#백준 10951번 A+B-4\n",
    "while True:\n",
    "    try:\n",
    "        m,n=map(int,input().split())\n",
    "        print(f'{m+n}')\n",
    "    except:\n",
    "        break"
   ]
  },
  {
   "cell_type": "code",
   "execution_count": null,
   "metadata": {},
   "outputs": [],
   "source": [
    "#백준 1110번 더하기 사이클\n",
    "inum=int(input()) #숫자입력\n",
    "num=inum #num에 내가 입력한 숫자 넣음\n",
    "cnt=0 #사이클\n",
    "while True:\n",
    "    sum_num=(num//10)+(num%10)#sum_num:내가 입력한 숫자의 일의자리+십의자리\n",
    "    new_num=((num%10)*10)+(sum_num%10)#new_num:왼쪽 항 숫자 일의자리 + 새로운 수 일의자리\n",
    "    cnt+=1#사이클 카운팅\n",
    "    if new_num==inum:#새로만든 수와 내가 처음에 입력한 수가 같으면\n",
    "        break#탈출\n",
    "    num=new_num#새로 만들어지는 수로 계속 초기화 해줌\n",
    "print(cnt)"
   ]
  },
  {
   "cell_type": "code",
   "execution_count": 9,
   "metadata": {},
   "outputs": [
    {
     "name": "stdout",
     "output_type": "stream",
     "text": [
      "long int\n"
     ]
    }
   ],
   "source": [
    "#백준 25314번 코딩은 체육과목 입니다\n",
    "n=int(input())\n",
    "print('long '*(n//4)+'int')"
   ]
  }
 ],
 "metadata": {
  "kernelspec": {
   "display_name": "Python 3",
   "language": "python",
   "name": "python3"
  },
  "language_info": {
   "codemirror_mode": {
    "name": "ipython",
    "version": 3
   },
   "file_extension": ".py",
   "mimetype": "text/x-python",
   "name": "python",
   "nbconvert_exporter": "python",
   "pygments_lexer": "ipython3",
   "version": "3.11.1"
  },
  "orig_nbformat": 4,
  "vscode": {
   "interpreter": {
    "hash": "5801587a06112e6250870f7b732ec27b04ad3aa34afbae47b4a821f67eef7a1b"
   }
  }
 },
 "nbformat": 4,
 "nbformat_minor": 2
}
