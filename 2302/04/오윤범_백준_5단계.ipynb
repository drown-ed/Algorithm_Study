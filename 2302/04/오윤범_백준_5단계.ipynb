{
 "cells": [
  {
   "cell_type": "code",
   "execution_count": null,
   "metadata": {},
   "outputs": [],
   "source": [
    "# 백준 11654번 아스키 코드\n",
    "print(ord(input()))"
   ]
  },
  {
   "cell_type": "code",
   "execution_count": null,
   "metadata": {},
   "outputs": [],
   "source": [
    "#백준 10809번 알파벳 찾기\n",
    "s=input() #baekjoon \n",
    "for i in 'abcdefghijklmnopqrstuvwxyz':\n",
    "    print(f'{s.find(i)}',end=' ') \n",
    "\n",
    "#print('baekjoon'.find('a')) # 1\n",
    "#print('baekjoon'.find('b')) # 0\n",
    "# 'baekjoon'.find('a')의 의미가 baekjoon이라는 문자열에서 a가 있으면 몇번째에 있는지 찍어주는거임\n",
    "# find('?') 가 없는 문자면 -1 찍힘 ㅇㅇ"
   ]
  },
  {
   "cell_type": "code",
   "execution_count": null,
   "metadata": {},
   "outputs": [],
   "source": [
    "#백준 2743번 단어 길이 재기\n",
    "n=input()\n",
    "print(len(n))"
   ]
  },
  {
   "cell_type": "code",
   "execution_count": null,
   "metadata": {},
   "outputs": [],
   "source": [
    "#백준 9086번 문자열\n",
    "tc=int(input())\n",
    "for i in range(tc):\n",
    "    str1=input()\n",
    "    print(str1[0]+str1[-1])"
   ]
  },
  {
   "cell_type": "code",
   "execution_count": null,
   "metadata": {},
   "outputs": [],
   "source": [
    "#백준 2675번 문자열 반복\n",
    "tc=int(input())\n",
    "for i in range(tc):\n",
    "    r,s=map(str,input().split())\n",
    "    for j in range(len(s)):\n",
    "        print(f'{int(r)*s[j]}',end='')\n",
    "    print()"
   ]
  },
  {
   "cell_type": "code",
   "execution_count": null,
   "metadata": {},
   "outputs": [],
   "source": [
    "#백준 1157번 단어 공부\n",
    "str1=str(input()).lower() #일단 소문자로 저장\n",
    "str1_set=list(set(str1)) # Mississipi입력 시 ['p','i','m','s']\n",
    "\n",
    "arr=[]\n",
    "\n",
    "for i in str1_set: # Mississipi / i --> p , i , m , s\n",
    "    count=str1.count(i)\n",
    "    arr.append(count)\n",
    "    # i가 p일때 str1.count('p')--> str1에 p 몇개있는지 찾아서 count에다가 넣음\n",
    "    # Mississipi / arr=[1,4,1,4] 로 중복제거해서 list에 넣은 알파벳의 개수를 셈\n",
    "if arr.count(max(arr))>=2: # arr배열에 들어있는 max값 즉 mississipi면 4를 찾는데\n",
    "    # arr이라는 배열안에 4가 몇개있는지 .count로 찾을 때 arr.count값이 2이상이면 가장 많이 사용한 알파벳이 2개이상이란거임\n",
    "    print('?')\n",
    "else:\n",
    "    print(str1_set[arr.index(max(arr))].upper())\n",
    "    #arr.index(max(arr)) --> index(max(arr)) arr에 가장 큰 값 ex) 4 를 찾아서 해당 위치 index값 반환\n",
    "    #str1_set이랑 arr에 들어가는 위치가 같게 들어가서 뽑아온 index값에 해당하는\n",
    "    # 원소를 str1_set에서 빼오면 가장 많이 나온 알파벳임"
   ]
  },
  {
   "cell_type": "code",
   "execution_count": null,
   "metadata": {},
   "outputs": [],
   "source": [
    "#백준 1152번 단어의 개수\n",
    "str1=list(map(str,input().split()))\n",
    "print(len(str1))"
   ]
  },
  {
   "cell_type": "code",
   "execution_count": null,
   "metadata": {},
   "outputs": [],
   "source": [
    "#백준 2908번 상수\n",
    "num1,num2=map(int,input().split())\n",
    "\n",
    "re_num1=str(num1)[::-1]\n",
    "re_num2=str(num2)[::-1] # 사용시에 int로 형변환 해야함\n",
    "\n",
    "if int(re_num1)>int(re_num2):\n",
    "    print(re_num1)\n",
    "else:\n",
    "    print(re_num2)"
   ]
  },
  {
   "cell_type": "code",
   "execution_count": null,
   "metadata": {},
   "outputs": [],
   "source": [
    "#백준 5622번 다이얼\n",
    "mystr=str(input())\n",
    "mylist=list(mystr)\n",
    "time=0\n",
    "for i in range(len(mylist)):\n",
    "    if ord(mylist[i])>=65 and ord(mylist[i])<=67:\n",
    "        time+=3\n",
    "    elif ord(mylist[i])>=68 and ord(mylist[i])<=70:\n",
    "        time+=4\n",
    "    elif ord(mylist[i])>=71 and ord(mylist[i])<=73:\n",
    "        time+=5        \n",
    "    elif ord(mylist[i])>=74 and ord(mylist[i])<=76:\n",
    "        time+=6\n",
    "    elif ord(mylist[i])>=77 and ord(mylist[i])<=79:\n",
    "        time+=7\n",
    "    elif ord(mylist[i])>=80 and ord(mylist[i])<=83:\n",
    "        time+=8\n",
    "    elif ord(mylist[i])>=84 and ord(mylist[i])<=86:\n",
    "        time+=9\n",
    "    elif ord(mylist[i])>=87 and ord(mylist[i])<=90:\n",
    "        time+=10\n",
    "print(time)"
   ]
  },
  {
   "cell_type": "code",
   "execution_count": null,
   "metadata": {},
   "outputs": [],
   "source": [
    "#백준 11718번 그대로 출력하기\n",
    "while True:\n",
    "    try:\n",
    "        print(input())\n",
    "    except EOFError:\n",
    "        break"
   ]
  }
 ],
 "metadata": {
  "kernelspec": {
   "display_name": "Python 3",
   "language": "python",
   "name": "python3"
  },
  "language_info": {
   "codemirror_mode": {
    "name": "ipython",
    "version": 3
   },
   "file_extension": ".py",
   "mimetype": "text/x-python",
   "name": "python",
   "nbconvert_exporter": "python",
   "pygments_lexer": "ipython3",
   "version": "3.11.1"
  },
  "orig_nbformat": 4,
  "vscode": {
   "interpreter": {
    "hash": "5801587a06112e6250870f7b732ec27b04ad3aa34afbae47b4a821f67eef7a1b"
   }
  }
 },
 "nbformat": 4,
 "nbformat_minor": 2
}
