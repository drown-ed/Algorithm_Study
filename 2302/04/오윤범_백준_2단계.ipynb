{
 "cells": [
  {
   "cell_type": "code",
   "execution_count": null,
   "metadata": {},
   "outputs": [],
   "source": [
    "#백준 1330 윤년 \n",
    "year=int(input())\n",
    "if (year%4==0 and year%100!=0) or year%400==0:\n",
    "    print(1)\n",
    "else:\n",
    "    print(0)"
   ]
  },
  {
   "cell_type": "code",
   "execution_count": null,
   "metadata": {},
   "outputs": [],
   "source": [
    "#백준 14681 사분면 고르기\n",
    "x=int(input())\n",
    "y=int(input())\n",
    "if x>0 and y>0:\n",
    "    print('1')\n",
    "elif x<0 and y>0:\n",
    "    print('2')\n",
    "elif x<0 and y<0:\n",
    "    print('3')\n",
    "else:\n",
    "    print('4')"
   ]
  },
  {
   "cell_type": "code",
   "execution_count": null,
   "metadata": {},
   "outputs": [],
   "source": [
    "#백준 2884번 알람시계\n",
    "hour,minute=map(int,input().split())\n",
    "if minute>=45:#45분이 넘으면 그냥 해당 분에서 45빼면 됨\n",
    "    print(hour,minute-45)\n",
    "elif minute<45 and hour>0:\n",
    "    print(hour-1,minute+60-45)#ex. 10시 30분에서 45분빼면 hour-1,minute+60-45로 9시 45분\n",
    "else:\n",
    "    print(23,minute+60-45)"
   ]
  },
  {
   "cell_type": "code",
   "execution_count": null,
   "metadata": {},
   "outputs": [],
   "source": [
    "#백준 2525번 오븐시계\n",
    "h,m=map(int,input().split())\n",
    "oven=int(input())\n",
    "h+=oven//60 \n",
    "m+=oven%60\n",
    "if m>=60:\n",
    "    h+=1\n",
    "    m-=60\n",
    "if h>=24:\n",
    "    h-=24\n",
    "print(h, m)"
   ]
  },
  {
   "cell_type": "code",
   "execution_count": null,
   "metadata": {},
   "outputs": [],
   "source": [
    "#백준 2480번 주사위 세개\n",
    "x,y,z=map(int,input().split())\n",
    "price=0\n",
    "if x==y==z:\n",
    "    price=10000+x*1000\n",
    "elif x==y:\n",
    "    price=1000+x*100\n",
    "elif x==z:\n",
    "    price=1000+x*100\n",
    "elif y==z:\n",
    "    price=1000+y*100\n",
    "else:\n",
    "    price=max(x,y,z)*100\n",
    "print(price)"
   ]
  }
 ],
 "metadata": {
  "kernelspec": {
   "display_name": "Python 3",
   "language": "python",
   "name": "python3"
  },
  "language_info": {
   "codemirror_mode": {
    "name": "ipython",
    "version": 3
   },
   "file_extension": ".py",
   "mimetype": "text/x-python",
   "name": "python",
   "nbconvert_exporter": "python",
   "pygments_lexer": "ipython3",
   "version": "3.11.1"
  },
  "orig_nbformat": 4,
  "vscode": {
   "interpreter": {
    "hash": "5801587a06112e6250870f7b732ec27b04ad3aa34afbae47b4a821f67eef7a1b"
   }
  }
 },
 "nbformat": 4,
 "nbformat_minor": 2
}
