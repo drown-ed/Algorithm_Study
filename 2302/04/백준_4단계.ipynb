{
 "cells": [
  {
   "cell_type": "code",
   "execution_count": null,
   "metadata": {},
   "outputs": [],
   "source": [
    "#백준 10807번 개수 세기\n",
    "n=int(input())\n",
    "nlist=list(map(int,input().split()))\n",
    "v=int(input())\n",
    "print(nlist.count(v))"
   ]
  },
  {
   "cell_type": "code",
   "execution_count": null,
   "metadata": {},
   "outputs": [],
   "source": [
    "#백준 10817번 X보다 작은 수\n",
    "n,x=map(int,input().split())\n",
    "A = list(map(int,input().split()))\n",
    "for i in range(len(A)):\n",
    "    if A[i]<x:\n",
    "        print(f'{A[i]}',end=' ')"
   ]
  },
  {
   "cell_type": "code",
   "execution_count": null,
   "metadata": {},
   "outputs": [],
   "source": [
    "#백준 10818번 최소,최대\n",
    "n = int(input())\n",
    "m=list(map(int,input().split()))\n",
    "print(f'{min(m)} {max(m)}')"
   ]
  },
  {
   "cell_type": "code",
   "execution_count": null,
   "metadata": {},
   "outputs": [],
   "source": [
    "#백준 2562번 최댓값\n",
    "arr=[]\n",
    "index=0\n",
    "for i in range(9):\n",
    "    n=int(input())\n",
    "    arr.append(n)\n",
    "    if arr[i]==max(arr):\n",
    "        index=i+1\n",
    "print(f'{max(arr)}\\n{index}')"
   ]
  },
  {
   "cell_type": "code",
   "execution_count": null,
   "metadata": {},
   "outputs": [],
   "source": [
    "#백준 5597번 과제 안내신분..?\n",
    "#1~30이 들어있는 리스트를 만들어놓고 입력받을때마다\n",
    "#만들어놓은 리스트에서 입력받는 값을 삭제시킨다는\n",
    "#생각을 왜 하지 못했을까.\n",
    "num = [i for i in range(1,31)]\n",
    "\n",
    "for i in range(28):\n",
    "    n=int(input())\n",
    "    num.remove(n)\n",
    "\n",
    "print(min(num))\n",
    "print(max(num))"
   ]
  },
  {
   "cell_type": "code",
   "execution_count": null,
   "metadata": {},
   "outputs": [],
   "source": [
    "#백준 3052번 나머지\n",
    "arr=[]\n",
    "arr_rest=[]\n",
    "for i in range(10):\n",
    "    n=int(input())\n",
    "    arr.append(n)\n",
    "    arr_rest.append(arr[i]%42)\n",
    "\n",
    "print(len(set(arr_rest)))"
   ]
  },
  {
   "cell_type": "code",
   "execution_count": null,
   "metadata": {},
   "outputs": [],
   "source": [
    "#백준 8958번 OX퀴즈\n",
    "n=int(input())\n",
    "for i in range(n):\n",
    "    OxList=input()#그냥 문자열\n",
    "    score=0 #O만날때마다 1씩 증가 1,2,3 ... \n",
    "    sum_score=0 #0만날때마다 증가된걸 계속더함\n",
    "    \n",
    "    for n in OxList: \n",
    "        if n=='O': #내가 입력한 문자열에서 'O' 만나면\n",
    "            score+=1 #score 1 증가\n",
    "        else:\n",
    "            score=0 # 'X'만나면 0으로 초기화\n",
    "        sum_score+=score #score 증가시켜준걸 누적해서 더함\n",
    "\n",
    "    print(sum_score)"
   ]
  },
  {
   "cell_type": "code",
   "execution_count": null,
   "metadata": {},
   "outputs": [],
   "source": [
    "#백준 4344번 평균은 넘겠지\n",
    "sum,avg,cnt=0,0,0\n",
    "n=int(input())\n",
    "for i in range(n):\n",
    "    score=list(map(int,input().split()))\n",
    "    for j in range(1,len(score)):\n",
    "        sum+=score[j]\n",
    "        avg=sum/score[0]\n",
    "    for j in range(1,len(score)):\n",
    "        if score[j]>avg:\n",
    "            cnt+=1\n",
    "    print(f'{cnt/score[0]*100:.3f}%')\n",
    "    sum=0\n",
    "    cnt=0"
   ]
  },
  {
   "cell_type": "code",
   "execution_count": null,
   "metadata": {},
   "outputs": [],
   "source": [
    "#백준 10810번 공 넣기\n",
    "m,tc = map(int,input().split()) # 5 4 \n",
    "emp=[0 for i in range(m)] #emp:[0,0,0,0,0]\n",
    "for _ in range(tc): \n",
    "    i,j,k=map(int,input().split())\n",
    "    for num in range(i-1,j): # 1 4 1 \n",
    "        emp[num]=k #emp[0] = 1 / emp[1] = 1 ... emp[3] = 1 \n",
    "\n",
    "for i in emp:\n",
    "    print(i,end=' ')"
   ]
  },
  {
   "cell_type": "code",
   "execution_count": null,
   "metadata": {},
   "outputs": [],
   "source": [
    "#백준 10813번 공 바꾸기\n",
    "m,tc=map(int,input().split()) # 5 4 \n",
    "emp = [i+1 for i in range(m)] # emp : [1,2,3,4,5] \n",
    "for _ in range(tc):\n",
    "    i,j=map(int,input().split())\n",
    "    temp=emp[i-1]\n",
    "    emp[i-1]=emp[j-1]\n",
    "    emp[j-1]=temp\n",
    "\n",
    "for i in emp:\n",
    "    print(i,end=' ')"
   ]
  },
  {
   "cell_type": "code",
   "execution_count": null,
   "metadata": {},
   "outputs": [],
   "source": [
    "#백준 10811번 바구니 뒤집기\n",
    "m,tc=map(int,input().split()) # 5 4 -> 빈 바구니 5개,테케 4개\n",
    "emp=[i+1 for i in range(m)] # emp=[1,2,3,4,5] / 1->emp[0] 5->emp[4]임을 유의\n",
    "for _ in range(tc):\n",
    "    i,j=map(int,input().split())\n",
    "    emp[i-1:j]=reversed(emp[i-1:j])\n",
    "\n",
    "for i in emp:\n",
    "    print(i,end=' ')\n",
    "\n",
    "# print(emp) # [1,2,3,4,5]\n",
    "# emp[1:5] = reversed(emp[1:5]) # 1:5를 반대로     \n",
    "# print(emp) # [1,5,4,3,2]"
   ]
  }
 ],
 "metadata": {
  "kernelspec": {
   "display_name": "Python 3",
   "language": "python",
   "name": "python3"
  },
  "language_info": {
   "codemirror_mode": {
    "name": "ipython",
    "version": 3
   },
   "file_extension": ".py",
   "mimetype": "text/x-python",
   "name": "python",
   "nbconvert_exporter": "python",
   "pygments_lexer": "ipython3",
   "version": "3.11.1"
  },
  "orig_nbformat": 4,
  "vscode": {
   "interpreter": {
    "hash": "5801587a06112e6250870f7b732ec27b04ad3aa34afbae47b4a821f67eef7a1b"
   }
  }
 },
 "nbformat": 4,
 "nbformat_minor": 2
}
