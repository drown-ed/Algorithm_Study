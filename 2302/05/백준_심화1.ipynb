{
 "cells": [
  {
   "cell_type": "code",
   "execution_count": null,
   "metadata": {},
   "outputs": [],
   "source": [
    "#백준 3003번 킹,퀸,룩,비숍,나이트,폰\n",
    "original=[1,1,2,2,2,8]\n",
    "n=list(map(int,input().split()))\n",
    "for i in range(len(original)):\n",
    "    print(f'{original[i]-n[i]}',end=' ')"
   ]
  },
  {
   "cell_type": "code",
   "execution_count": null,
   "metadata": {},
   "outputs": [],
   "source": [
    "#백준 2444번 별찍기\n",
    "n=int(input()) # 5\n",
    "for i in range(1,n): # i:1,2,3,4\n",
    "    print(' '*(n-i)+'*'*(2*i-1)) #i:1/공백4개+별1개 \n",
    "for i in range(n,0,-1): # i는 5부터 시작해서 1까지 \n",
    "    print(' '*(n-i)+'*'*(2*i-1)) #i:5/공백0개+별9개"
   ]
  },
  {
   "cell_type": "code",
   "execution_count": null,
   "metadata": {},
   "outputs": [],
   "source": [
    "#백준 10812번 바구니 순서 바꾸기\n",
    "n,m=map(int,input().split()) #5 4\n",
    "emp=[i+1 for i in range(n)] #emp=[1,2,3,4,5]\n",
    "for _ in range(m):\n",
    "    i,j,k = map(int,input().split())\n",
    "    emp[i-1:j] = emp[k-1:j]+emp[i-1:k-1]\n",
    "    #emp[i:j] --> i+1부터 j까지 다룸. 즉 1:5 면 2부터 5까지임\n",
    "\n",
    "print(*emp)"
   ]
  },
  {
   "cell_type": "code",
   "execution_count": null,
   "metadata": {},
   "outputs": [],
   "source": [
    "#백준 10988번 팰린드롬인지 확인하기\n",
    "\n",
    "mystr=str(input())\n",
    "mylist=list(mystr)\n",
    "\n",
    "if mylist==mylist[::-1]:\n",
    "    print('1')\n",
    "else:\n",
    "    print('0')"
   ]
  },
  {
   "cell_type": "code",
   "execution_count": null,
   "metadata": {},
   "outputs": [],
   "source": [
    "#백준 2941번 크로아티아 알파벳\n",
    "croatia=['c=','c-','dz=','d-','lj','nj','s=','z=']\n",
    "alpha=list(str('abcdefghijklmnopqrstuvwxyz'))\n",
    "\n",
    "mystr=str(input())\n",
    "\n",
    "cnt=0\n",
    "mod=[]\n",
    "\n",
    "for i in range(len(croatia)):\n",
    "    if croatia[i] in mystr:\n",
    "        mystr=mystr.replace(croatia[i],'0')\n",
    "        #c=c= 00\n",
    "\n",
    "for i in range(len(alpha)):\n",
    "    if alpha[i] in mystr:\n",
    "        mystr=mystr.replace(alpha[i],'1')\n",
    "\n",
    "mod=list(mystr) # ['0' '1'...]\n",
    "for i in range(len(mod)):\n",
    "    if mod[i]=='0' or '1':\n",
    "        cnt+=1\n",
    "\n",
    "print(cnt)"
   ]
  },
  {
   "cell_type": "code",
   "execution_count": null,
   "metadata": {},
   "outputs": [],
   "source": [
    "#백준 2941번 크로아티아 알파벳 더 좋은 풀이\n",
    "croatia=['c=','c-','dz=','d-','lj','nj','s=','z=']\n",
    "alpha=list(str('abcdefghijklmnopqrstuvwxyz'))\n",
    "\n",
    "mystr=str(input())\n",
    "\n",
    "cnt=0\n",
    "\n",
    "for i in range(len(croatia)):\n",
    "    if croatia[i] in mystr:\n",
    "        k=mystr.count(croatia[i])\n",
    "        mystr=mystr.replace(croatia[i],'0')\n",
    "        cnt+=k\n",
    "for i in range(len(alpha)):\n",
    "    if alpha[i] in mystr:\n",
    "        k=mystr.count(alpha[i])\n",
    "        cnt+=k\n",
    "\n",
    "print(cnt)"
   ]
  },
  {
   "cell_type": "code",
   "execution_count": null,
   "metadata": {},
   "outputs": [],
   "source": [
    "#백준 1316번 그룹 단어 채커\n",
    "n=int(input())\n",
    "cnt=n\n",
    "for i in range(n):\n",
    "    mystr=input()\n",
    "    prev_str=''\n",
    "    mystr_set=set()\n",
    "\n",
    "    for j in mystr:\n",
    "        if j not in mystr_set:\n",
    "            mystr_set.add(j)\n",
    "            prev_str=j\n",
    "        elif prev_str==j:\n",
    "            continue\n",
    "        else:\n",
    "            cnt-=1\n",
    "            break\n",
    "\n",
    "print(cnt)"
   ]
  },
  {
   "cell_type": "code",
   "execution_count": null,
   "metadata": {},
   "outputs": [],
   "source": [
    "#백준 25206번 너의 평점은\n",
    "rating = ['A+', 'A0', 'B+', 'B0', 'C+', 'C0', 'D+', 'D0', 'F']\n",
    "grade = [4.5, 4.0, 3.5, 3.0, 2.5, 2.0, 1.5, 1.0, 0]\n",
    "\n",
    "total = 0\t# 학점 총합을 담을 변수\n",
    "result = 0\t# (학점 * 과목평점) 총합을 담을 변수\n",
    "for _ in range(20) :\n",
    "    s_name, s_score, s_grade = input().split()\n",
    "    s_score = float(s_score)\n",
    "    if s_grade != 'P' :\t# 등급이 P인 과목은 계산 안함\n",
    "        total += s_score\n",
    "        result += s_score * grade[rating.index(s_grade)]\n",
    "\n",
    "print('%.6f' % (result / total))"
   ]
  }
 ],
 "metadata": {
  "kernelspec": {
   "display_name": "Python 3",
   "language": "python",
   "name": "python3"
  },
  "language_info": {
   "codemirror_mode": {
    "name": "ipython",
    "version": 3
   },
   "file_extension": ".py",
   "mimetype": "text/x-python",
   "name": "python",
   "nbconvert_exporter": "python",
   "pygments_lexer": "ipython3",
   "version": "3.11.1"
  },
  "orig_nbformat": 4,
  "vscode": {
   "interpreter": {
    "hash": "5801587a06112e6250870f7b732ec27b04ad3aa34afbae47b4a821f67eef7a1b"
   }
  }
 },
 "nbformat": 4,
 "nbformat_minor": 2
}
